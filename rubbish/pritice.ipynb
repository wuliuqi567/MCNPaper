{
 "cells": [
  {
   "cell_type": "code",
   "execution_count": 17,
   "metadata": {
    "collapsed": true,
    "pycharm": {
     "name": "#%%\n"
    }
   },
   "outputs": [
    {
     "data": {
      "text/plain": "13"
     },
     "execution_count": 17,
     "metadata": {},
     "output_type": "execute_result"
    }
   ],
   "source": [
    "def memoized_cut_rod(p:list, n:int): #how long\n",
    "    r = []   #r[i] reprezation i mzuidashouyi\n",
    "    for i in range(n+1):\n",
    "        r.append(0)\n",
    "\n",
    "    return second(p, n, r)\n",
    "\n",
    "def second(p:list, n:int, r:list):\n",
    "    if r[n] != -1:\n",
    "        return r[n]\n",
    "\n",
    "    if n==0:\n",
    "        return 0\n",
    "\n",
    "    else:\n",
    "        q=0\n",
    "        for i in range(1, n+1):\n",
    "\n",
    "            q = max(q, p[i]+second(p, n-i, r))\n",
    "        r[n-1]=q\n",
    "    return r[n-1]\n",
    "\n",
    "memoized_cut_rod([1, 5, 8, 9, 10], 2)"
   ]
  },
  {
   "cell_type": "code",
   "execution_count": 20,
   "outputs": [
    {
     "data": {
      "text/plain": "8"
     },
     "execution_count": 20,
     "metadata": {},
     "output_type": "execute_result"
    }
   ],
   "source": [
    "# climb stairs problems\n",
    "def climb_stait(n:int):\n",
    "    dp = []\n",
    "    dp.append(0)\n",
    "    dp.append(1)\n",
    "    dp.append(2)\n",
    "    for i in range(3, n+1):\n",
    "        dp.append(dp[i-2] + dp[i-1])\n",
    "    return dp[n]\n",
    "\n",
    "climb_stait(5)\n",
    "\n",
    "\n"
   ],
   "metadata": {
    "collapsed": false,
    "pycharm": {
     "name": "#%%\n"
    }
   }
  },
  {
   "cell_type": "code",
   "execution_count": 4,
   "outputs": [
    {
     "name": "stdout",
     "output_type": "stream",
     "text": [
      "[(576247.8125, 1521), (649052.125, 1085), (652951.1875, 1064), (659242.875, 1543), (751805.75, 1129)]\n"
     ]
    }
   ],
   "source": [
    "ground_station_satellites_in_range = [[(576247.8125, 1521), (649052.125, 1085), (652951.1875, 1064), (659242.875, 1543), (751805.75, 1129), (870600.1875, 1151), (874889.125, 1477), (904374.6875, 1456), (1021863.6875, 3), (1034257.625, 1500), (1058922.0, 1108)], [(585620.625, 1388), (692512.5, 1367), (711117.375, 822), (714298.1875, 888), (808339.4375, 866), (876648.3125, 844), (911788.375, 1323), (1068782.5, 1344), (1087221.25, 909)]]\n",
    "\n",
    "sat1 = ground_station_satellites_in_range[0][0:5]\n",
    "sat2 = ground_station_satellites_in_range[1][0:5]\n",
    "\n",
    "print(sat1)\n"
   ],
   "metadata": {
    "collapsed": false,
    "pycharm": {
     "name": "#%%\n"
    }
   }
  },
  {
   "cell_type": "markdown",
   "source": [],
   "metadata": {
    "collapsed": false,
    "pycharm": {
     "name": "#%% md\n"
    }
   }
  }
 ],
 "metadata": {
  "kernelspec": {
   "display_name": "Python 3",
   "language": "python",
   "name": "python3"
  },
  "language_info": {
   "codemirror_mode": {
    "name": "ipython",
    "version": 2
   },
   "file_extension": ".py",
   "mimetype": "text/x-python",
   "name": "python",
   "nbconvert_exporter": "python",
   "pygments_lexer": "ipython2",
   "version": "2.7.6"
  }
 },
 "nbformat": 4,
 "nbformat_minor": 0
}