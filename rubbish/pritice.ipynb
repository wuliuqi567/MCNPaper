{
 "cells": [
  {
   "cell_type": "code",
   "execution_count": 9,
   "outputs": [
    {
     "ename": "ValueError",
     "evalue": "not enough values to unpack (expected 3, got 0)",
     "output_type": "error",
     "traceback": [
      "\u001B[0;31m---------------------------------------------------------------------------\u001B[0m",
      "\u001B[0;31mValueError\u001B[0m                                Traceback (most recent call last)",
      "Input \u001B[0;32mIn [9]\u001B[0m, in \u001B[0;36m<cell line: 38>\u001B[0;34m()\u001B[0m\n\u001B[1;32m     35\u001B[0m     \u001B[38;5;28;01mfor\u001B[39;00m result \u001B[38;5;129;01min\u001B[39;00m results:\n\u001B[1;32m     36\u001B[0m         \u001B[38;5;28mprint\u001B[39m(result)\n\u001B[0;32m---> 38\u001B[0m \u001B[43mmain\u001B[49m\u001B[43m(\u001B[49m\u001B[43m)\u001B[49m\n",
      "Input \u001B[0;32mIn [9]\u001B[0m, in \u001B[0;36mmain\u001B[0;34m()\u001B[0m\n\u001B[1;32m     17\u001B[0m \u001B[38;5;28;01mdef\u001B[39;00m \u001B[38;5;21mmain\u001B[39m():\n\u001B[0;32m---> 18\u001B[0m     n, m, p \u001B[38;5;241m=\u001B[39m \u001B[38;5;28mmap\u001B[39m(\u001B[38;5;28mint\u001B[39m, \u001B[38;5;28minput\u001B[39m()\u001B[38;5;241m.\u001B[39msplit())\n\u001B[1;32m     19\u001B[0m     parent \u001B[38;5;241m=\u001B[39m \u001B[38;5;28mlist\u001B[39m(\u001B[38;5;28mrange\u001B[39m(n))\n\u001B[1;32m     20\u001B[0m     rank \u001B[38;5;241m=\u001B[39m [\u001B[38;5;241m0\u001B[39m] \u001B[38;5;241m*\u001B[39m n\n",
      "\u001B[0;31mValueError\u001B[0m: not enough values to unpack (expected 3, got 0)"
     ]
    }
   ],
   "source": [
    "def find_set(x, parent):\n",
    "    if parent[x] == x:\n",
    "        return x\n",
    "    parent[x] = find_set(parent[x], parent)\n",
    "    return parent[x]\n",
    "\n",
    "def union_sets(x, y, parent, rank):\n",
    "    x = find_set(x, parent)\n",
    "    y = find_set(y, parent)\n",
    "    if x != y:\n",
    "        if rank[x] < rank[y]:\n",
    "            x, y = y, x\n",
    "        parent[y] = x\n",
    "        if rank[x] == rank[y]:\n",
    "            rank[x] += 1\n",
    "\n",
    "def main():\n",
    "    n, m, p = map(int, input().split())\n",
    "    parent = list(range(n))\n",
    "    rank = [0] * n\n",
    "\n",
    "    for _ in range(m):\n",
    "        x, y = map(int, input().split())\n",
    "        union_sets(x - 1, y - 1, parent, rank)\n",
    "\n",
    "    results = []\n",
    "\n",
    "    for _ in range(p):\n",
    "        a, b = map(int, input().split())\n",
    "        if find_set(a - 1, parent) == find_set(b - 1, parent):\n",
    "            results.append(\"Consanguine\")\n",
    "        else:\n",
    "            results.append(\"Unrelated\")\n",
    "\n",
    "    for result in results:\n",
    "        print(result)\n",
    "\n",
    "main()"
   ],
   "metadata": {
    "collapsed": false,
    "pycharm": {
     "name": "#%%\n"
    }
   }
  },
  {
   "cell_type": "code",
   "execution_count": null,
   "outputs": [],
   "source": [
    "def find_set(x, parent):\n",
    "    if parent[x] != x:\n",
    "        parent[x] = find_set(parent[x], parent)\n",
    "    return parent[x]\n",
    "\n",
    "def union_sets(x, y, parent, rank):\n",
    "    x = find_set(x, parent)\n",
    "    y = find_set(y, parent)\n",
    "    if x != y:\n",
    "        if rank[x] < rank[y]:\n",
    "            x, y = y, x\n",
    "        parent[y] = x\n",
    "        if rank[x] == rank[y]:\n",
    "            rank[x] += 1\n",
    "\n",
    "def main():\n",
    "    n, m, p = map(int, input().split())\n",
    "    parent = list(range(n))\n",
    "    rank = [0] * n\n",
    "\n",
    "    for _ in range(m):\n",
    "        x, y = map(int, input().split())\n",
    "        union_sets(x - 1, y - 1, parent, rank)\n",
    "\n",
    "    results = []\n",
    "\n",
    "    for _ in range(p):\n",
    "        a, b = map(int, input().split())\n",
    "        if find_set(a - 1, parent) == find_set(b - 1, parent):\n",
    "            results.append(\"Consanguine\")\n",
    "        else:\n",
    "            results.append(\"Unrelated\")\n",
    "\n",
    "    for result in results:\n",
    "        print(result)\n",
    "\n",
    "if __name__ == \"__main__\":\n",
    "    main()\n"
   ],
   "metadata": {
    "collapsed": false,
    "pycharm": {
     "name": "#%%\n"
    }
   }
  },
  {
   "cell_type": "code",
   "execution_count": 7,
   "metadata": {
    "collapsed": true,
    "pycharm": {
     "name": "#%%\n"
    }
   },
   "outputs": [
    {
     "data": {
      "text/plain": "0"
     },
     "execution_count": 7,
     "metadata": {},
     "output_type": "execute_result"
    }
   ],
   "source": [
    "def memoized_cut_rod(p:list, n:int): #how long\n",
    "    r = []   #r[i] reprezation i mzuidashouyi\n",
    "    for i in range(n+1):\n",
    "        r.append(0)\n",
    "\n",
    "    return second(p, n, r)\n",
    "\n",
    "def second(p:list, n:int, r:list):\n",
    "    if r[n] != -1:\n",
    "        return r[n]\n",
    "\n",
    "    if n==0:\n",
    "        return 0\n",
    "\n",
    "    else:\n",
    "        q=0\n",
    "        for i in range(1, n+1):\n",
    "\n",
    "            q = max(q, p[i]+second(p, n-i, r))\n",
    "        r[n-1]=q\n",
    "    return r[n-1]\n",
    "\n",
    "memoized_cut_rod([1, 5, 8, 9, 10], 2)"
   ]
  },
  {
   "cell_type": "code",
   "execution_count": 20,
   "outputs": [
    {
     "data": {
      "text/plain": "8"
     },
     "execution_count": 20,
     "metadata": {},
     "output_type": "execute_result"
    }
   ],
   "source": [
    "# climb stairs problems\n",
    "def climb_stait(n:int):\n",
    "    dp = []\n",
    "    dp.append(0)\n",
    "    dp.append(1)\n",
    "    dp.append(2)\n",
    "    for i in range(3, n+1):\n",
    "        dp.append(dp[i-2] + dp[i-1])\n",
    "    return dp[n]\n",
    "\n",
    "climb_stait(5)\n",
    "\n",
    "\n"
   ],
   "metadata": {
    "collapsed": false,
    "pycharm": {
     "name": "#%%\n"
    }
   }
  },
  {
   "cell_type": "code",
   "execution_count": 4,
   "outputs": [
    {
     "name": "stdout",
     "output_type": "stream",
     "text": [
      "[(576247.8125, 1521), (649052.125, 1085), (652951.1875, 1064), (659242.875, 1543), (751805.75, 1129)]\n"
     ]
    }
   ],
   "source": [
    "ground_station_satellites_in_range = [[(576247.8125, 1521), (649052.125, 1085), (652951.1875, 1064), (659242.875, 1543), (751805.75, 1129), (870600.1875, 1151), (874889.125, 1477), (904374.6875, 1456), (1021863.6875, 3), (1034257.625, 1500), (1058922.0, 1108)], [(585620.625, 1388), (692512.5, 1367), (711117.375, 822), (714298.1875, 888), (808339.4375, 866), (876648.3125, 844), (911788.375, 1323), (1068782.5, 1344), (1087221.25, 909)]]\n",
    "\n",
    "sat1 = ground_station_satellites_in_range[0][0:5]\n",
    "sat2 = ground_station_satellites_in_range[1][0:5]\n",
    "\n",
    "print(sat1)\n"
   ],
   "metadata": {
    "collapsed": false,
    "pycharm": {
     "name": "#%%\n"
    }
   }
  },
  {
   "cell_type": "markdown",
   "source": [],
   "metadata": {
    "collapsed": false,
    "pycharm": {
     "name": "#%% md\n"
    }
   }
  }
 ],
 "metadata": {
  "kernelspec": {
   "display_name": "Python 3",
   "language": "python",
   "name": "python3"
  },
  "language_info": {
   "codemirror_mode": {
    "name": "ipython",
    "version": 2
   },
   "file_extension": ".py",
   "mimetype": "text/x-python",
   "name": "python",
   "nbconvert_exporter": "python",
   "pygments_lexer": "ipython2",
   "version": "2.7.6"
  }
 },
 "nbformat": 4,
 "nbformat_minor": 0
}