{
 "cells": [
  {
   "cell_type": "code",
   "execution_count": 5,
   "metadata": {
    "collapsed": true,
    "pycharm": {
     "name": "#%%\n"
    }
   },
   "outputs": [
    {
     "name": "stdout",
     "output_type": "stream",
     "text": [
      "1\n"
     ]
    }
   ],
   "source": [
    "\n",
    "a = min(1,1)\n",
    "print(a)"
   ]
  },
  {
   "cell_type": "code",
   "execution_count": null,
   "outputs": [],
   "source": [
    "[[(614842.25, 1521, 1), (683955.5, 1085, 0), (687683.5625, 1064, 0), (693692.875, 1543, 1), (782691.6875, 1129, 0), (898070.0, 1151, 0), (902253.0625, 1477, 1), (931045.9375, 1456, 1), (1046240.1875, 3, 1), (1058403.75, 1500, 1), (1082659.875, 1108, 0), (1153209.375, 1107, 0), (1182768.75, 1020, 0), (1195606.0, 1042, 0), (1204472.0, 1565, 1), (1221813.625, 1499, 1), (1230298.0, 1564, 1), (1251889.25, 1434, 1), (1291301.125, 1172, 0), (1294917.5, 1216, 0), (1297457.75, 1195, 0)],\n",
    "\n",
    " [(728746.625, 838, 1), (772544.3125, 859, 1), (810243.8125, 207, 0), (837165.1875, 273, 0), (853781.0, 229, 0), (899853.25, 251, 0), (947631.125, 903, 1), (996779.4375, 882, 1), (1196761.0, 816, 1), (1239057.375, 294, 0)]]\n"
   ],
   "metadata": {
    "collapsed": false,
    "pycharm": {
     "name": "#%%\n"
    }
   }
  }
 ],
 "metadata": {
  "kernelspec": {
   "display_name": "Python 3",
   "language": "python",
   "name": "python3"
  },
  "language_info": {
   "codemirror_mode": {
    "name": "ipython",
    "version": 2
   },
   "file_extension": ".py",
   "mimetype": "text/x-python",
   "name": "python",
   "nbconvert_exporter": "python",
   "pygments_lexer": "ipython2",
   "version": "2.7.6"
  }
 },
 "nbformat": 4,
 "nbformat_minor": 0
}