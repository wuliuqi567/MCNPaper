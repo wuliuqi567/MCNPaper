{
 "cells": [
  {
   "cell_type": "code",
   "execution_count": 5,
   "metadata": {
    "collapsed": true,
    "pycharm": {
     "name": "#%%\n"
    }
   },
   "outputs": [
    {
     "name": "stdout",
     "output_type": "stream",
     "text": [
      "1\n"
     ]
    }
   ],
   "source": [
    "\n",
    "a = min(1,1)\n",
    "print(a)"
   ]
  },
  {
   "cell_type": "code",
   "execution_count": 9,
   "outputs": [
    {
     "name": "stdout",
     "output_type": "stream",
     "text": [
      "7\n",
      "[1, 2, 3, 4, 5, 6, 33, 44, 55, 66]\n"
     ]
    }
   ],
   "source": [
    "test  = [1,2,3,4,5,6,7]\n",
    "test2 = [33,44,55,66]\n",
    "c = test.pop()\n",
    "print(c)\n",
    "test += test2\n",
    "print(test)"
   ],
   "metadata": {
    "collapsed": false,
    "pycharm": {
     "name": "#%%\n"
    }
   }
  },
  {
   "cell_type": "code",
   "execution_count": 11,
   "outputs": [
    {
     "name": "stdout",
     "output_type": "stream",
     "text": [
      "2 v: 4\n"
     ]
    }
   ],
   "source": [
    "u, v = map(int,input().split(\" \"))\n",
    "print(u, 'v:' , v)"
   ],
   "metadata": {
    "collapsed": false,
    "pycharm": {
     "name": "#%%\n"
    }
   }
  },
  {
   "cell_type": "code",
   "execution_count": 6,
   "outputs": [
    {
     "name": "stdout",
     "output_type": "stream",
     "text": [
      "[1.1442818641662598, 0.6215084195137024, 0.6844343543052673]\n"
     ]
    }
   ],
   "source": [
    "import numpy as np\n",
    "all_metrics = {'loss': 1.1442818641662598, 'mean_absolute_error': 0.6215084195137024, 'denorm_mean_absolute_error': 0.6844343543052673}\n",
    "convert_to_np =[]\n",
    "for elem in all_metrics:\n",
    "        # print(elem)\n",
    "        convert_to_np.append(all_metrics[elem])\n",
    "np.array(convert_to_np)\n",
    "print(convert_to_np)"
   ],
   "metadata": {
    "collapsed": false,
    "pycharm": {
     "name": "#%%\n"
    }
   }
  }
 ],
 "metadata": {
  "kernelspec": {
   "display_name": "Python 3",
   "language": "python",
   "name": "python3"
  },
  "language_info": {
   "codemirror_mode": {
    "name": "ipython",
    "version": 2
   },
   "file_extension": ".py",
   "mimetype": "text/x-python",
   "name": "python",
   "nbconvert_exporter": "python",
   "pygments_lexer": "ipython2",
   "version": "2.7.6"
  }
 },
 "nbformat": 4,
 "nbformat_minor": 0
}